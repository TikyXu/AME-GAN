{
 "cells": [
  {
   "cell_type": "markdown",
   "metadata": {},
   "source": [
    "### import"
   ]
  },
  {
   "cell_type": "code",
   "execution_count": 7,
   "metadata": {},
   "outputs": [],
   "source": [
    "import pandas as pd\n",
    "import numpy as np\n",
    "\n",
    "from pymoo.indicators.hv import HV\n",
    "from pymoo.indicators.igd import IGD"
   ]
  },
  {
   "cell_type": "markdown",
   "metadata": {},
   "source": [
    "### 读取文件"
   ]
  },
  {
   "cell_type": "code",
   "execution_count": 8,
   "metadata": {},
   "outputs": [
    {
     "data": {
      "text/plain": [
       "array([[0.00148361, 0.21875   ],\n",
       "       [0.00115833, 0.4140625 ],\n",
       "       [0.00103476, 0.4375    ],\n",
       "       [0.28910768, 0.0625    ],\n",
       "       [0.28884982, 0.078125  ],\n",
       "       [0.69090831, 0.03125   ],\n",
       "       [0.68947941, 0.0390625 ],\n",
       "       [0.68774308, 0.046875  ],\n",
       "       [0.00128221, 0.3515625 ],\n",
       "       [0.00515913, 0.1875    ],\n",
       "       [0.00137341, 0.296875  ],\n",
       "       [0.32835995, 0.0546875 ],\n",
       "       [0.00146869, 0.2421875 ],\n",
       "       [0.0014675 , 0.2578125 ],\n",
       "       [0.00807917, 0.1328125 ],\n",
       "       [0.00804481, 0.140625  ]])"
      ]
     },
     "execution_count": 8,
     "metadata": {},
     "output_type": "execute_result"
    }
   ],
   "source": [
    "'''None Dominated Solutions'''\n",
    "def find_non_dominated_points(points):\n",
    "    # 输入: points 是一个二维 numpy 数组，形状为 (N, 2)，其中 N 是点的数量\n",
    "    n_points = points.shape[0]\n",
    "    is_dominated = np.zeros(n_points, dtype=bool)  # 初始化一个数组，用来标记是否被支配\n",
    "\n",
    "    for i in range(n_points):\n",
    "        for j in range(n_points):\n",
    "            if i != j:\n",
    "                # 如果点 j 在所有目标上都优于点 i，则 i 被支配\n",
    "                if (points[j][0] >= points[i][0] and points[j][1] >= points[i][1]) and \\\n",
    "                   (points[j][0] > points[i][0] or points[j][1] > points[i][1]):\n",
    "                    is_dominated[i] = True\n",
    "                    break  # 一旦发现被支配，无需再检查\n",
    "\n",
    "    # 返回非支配点\n",
    "    return points[~is_dominated]\n",
    "\n",
    "# # 示例：调用函数并传入文件路径\n",
    "# # file_path_ms = 'NSL-KDD Generator_MaxSample'  # NSL Gen HV\n",
    "# # file_path_ms = 'NSL-KDD Discriminator_MaxSample.csv'  # NSL Dis HV\n",
    "# # file_path_ms = 'UNSW-NB15 Generator_MaxSample.csv'  # UNSW Gen HV\n",
    "# file_path_ms = 'UNSW-NB15 Discriminator_MaxSample.csv'  # UNSW Dis HV\n",
    "# max_sampling_all = read_coordinates(file_path_ms)\n",
    "# max_sampling_all = np.array(max_sampling_all)\n",
    "# # 筛选非支配点\n",
    "# max_sampling = find_non_dominated_points(max_sampling_all)\n",
    "\n",
    "# 示例：调用函数并传入文件路径\n",
    "# file_path_DMS = 'NSL-KDD Discriminator_DoubleMutationSample.csv'  # NSL Dis None Dominated Solutions\n",
    "# file_path_DMS = 'UNSW-NB15 Discriminator_DoubleMutationSample.csv'  # UNSW Dis None Dominated Solutions\n",
    "# file_path_DMS = 'NSL-KDD Generator_DoubleMutationSample.csv'  # NSL Gen None Dominated Solutions\n",
    "file_path_DMS = 'UNSW-NB15 Generator_DoubleMutationSample.csv'  # UNSW Gen None Dominated Solutions\n",
    "\n",
    "double_mutation_sampling = pd.read_csv(file_path_DMS)\n",
    "double_mutation_sampling = np.array(double_mutation_sampling)\n",
    "\n",
    "double_mutation_sampling"
   ]
  },
  {
   "cell_type": "markdown",
   "metadata": {},
   "source": [
    "### 去重"
   ]
  },
  {
   "cell_type": "code",
   "execution_count": 9,
   "metadata": {},
   "outputs": [
    {
     "data": {
      "text/plain": [
       "array([[0.00103476, 0.4375    ],\n",
       "       [0.00115833, 0.4140625 ],\n",
       "       [0.00128221, 0.3515625 ],\n",
       "       [0.00137341, 0.296875  ],\n",
       "       [0.0014675 , 0.2578125 ],\n",
       "       [0.00146869, 0.2421875 ],\n",
       "       [0.00148361, 0.21875   ],\n",
       "       [0.00515913, 0.1875    ],\n",
       "       [0.00804481, 0.140625  ],\n",
       "       [0.00807917, 0.1328125 ],\n",
       "       [0.28884982, 0.078125  ],\n",
       "       [0.28910768, 0.0625    ],\n",
       "       [0.32835995, 0.0546875 ],\n",
       "       [0.68774308, 0.046875  ],\n",
       "       [0.68947941, 0.0390625 ],\n",
       "       [0.69090831, 0.03125   ]])"
      ]
     },
     "execution_count": 9,
     "metadata": {},
     "output_type": "execute_result"
    }
   ],
   "source": [
    "double_mutation_sampling = np.unique(double_mutation_sampling, axis=0)\n",
    "\n",
    "# # # 对第一列取倒数\n",
    "# print(f'Latency: {1 / double_mutation_sampling[:, 0]}\\n')\n",
    "# double_mutation_sampling[:, 0] = 1 / double_mutation_sampling[:, 0]\n",
    "\n",
    "double_mutation_sampling"
   ]
  },
  {
   "cell_type": "code",
   "execution_count": 10,
   "metadata": {},
   "outputs": [],
   "source": [
    "# # 计算HV\n",
    "\n",
    "# # 定义解集及参考点\n",
    "# reference_point = [0.11, 0.5]  # NSL Gen:[0.11, 0.5]; NSL Dis:[0.002, 0.8]\n",
    "#                                # UNSW Gen:[xx, yy]; UNSW Dis:\n",
    "# # 计算Max Sampling超体积\n",
    "# hv_ms = HV(ref_point=reference_point)\n",
    "# hypervolume_ms = hv_ms.do(max_sampling)\n",
    "# print(\"Max Sampling Hypervolume:\", hypervolume_ms)\n",
    "\n",
    "# # 计算Double Mutation Sampling超体积\n",
    "# hv_dms = HV(ref_point=reference_point)\n",
    "# hypervolume_dms = hv_dms.do(double_mutation_sampling)\n",
    "# print(\"Double Mutation Sampling Hypervolume:\", hypervolume_dms)\n",
    "\n",
    "\n",
    "##### NSL Gen HV    \n",
    "##### Max Sampling 超体积: 0.03090679805876238\n",
    "##### Double Mutation Sampling 超体积: 0.04248747039571762"
   ]
  },
  {
   "cell_type": "markdown",
   "metadata": {},
   "source": [
    "### 熵权法求权重系数\n",
    "1.标准化矩阵"
   ]
  },
  {
   "cell_type": "code",
   "execution_count": 11,
   "metadata": {},
   "outputs": [
    {
     "data": {
      "text/plain": [
       "(0.6909083139314383, 0.0010347621582421, 0.4375, 0.03125)"
      ]
     },
     "execution_count": 11,
     "metadata": {},
     "output_type": "execute_result"
    }
   ],
   "source": [
    "max_obj1, min_obj1 = np.max(double_mutation_sampling[:, 0]), np.min(double_mutation_sampling[:, 0])\n",
    "max_obj2, min_obj2 = np.max(double_mutation_sampling[:, 1]), np.min(double_mutation_sampling[:, 1])\n",
    "\n",
    "max_values, min_values = np.array([max_obj1, max_obj2]), np.array([min_obj1, min_obj2])\n",
    "forward_reverse_list = [True, True]\n",
    "max_obj1, min_obj1, max_obj2, min_obj2"
   ]
  },
  {
   "cell_type": "markdown",
   "metadata": {},
   "source": [
    "2.计算比重矩阵 --> 信息熵 --> 权重系数"
   ]
  },
  {
   "cell_type": "code",
   "execution_count": 12,
   "metadata": {},
   "outputs": [
    {
     "data": {
      "text/plain": [
       "[0.7182873396103959, 0.281712660389604]"
      ]
     },
     "execution_count": 12,
     "metadata": {},
     "output_type": "execute_result"
    }
   ],
   "source": [
    "def entropy_weight(matrix_origin, max_values, min_values, forward_reverse_list): # forward:True; reverse:False\n",
    "    matrix = np.copy(matrix_origin)\n",
    "    information_entropy = []\n",
    "    for obj in range(max_values.shape[0]):\n",
    "        if forward_reverse_list[obj]:\n",
    "            matrix[:, obj] = (matrix[:, obj] - min_values[obj]) / (max_values[obj] - min_values[obj])\n",
    "        else:\n",
    "            matrix[:, obj] = (max_values[obj] - matrix[:, obj]) / (max_values[obj] - min_values[obj])\n",
    "\n",
    "        # weighted_matrix\n",
    "        matrix[:, obj] = matrix[:, obj] / np.sum(matrix[:, obj])\n",
    "\n",
    "        # information_entropy\n",
    "        h = 0.0\n",
    "        for col in matrix[:, obj]:\n",
    "            if col != 0.0 :\n",
    "                add = -col*np.log(col)\n",
    "                h += add\n",
    "            else:                \n",
    "                h += 0.0\n",
    "        information_entropy.append(h)\n",
    "\n",
    "    # weights\n",
    "    weights_sum = np.sum([np.log(matrix.shape[0]) - h for h in information_entropy])\n",
    "    weights = [(np.log(matrix.shape[0]) - h) / weights_sum for h in information_entropy]\n",
    "    return matrix, information_entropy, weights\n",
    "\n",
    "matrix_weights, hs, weights = entropy_weight(matrix_origin=double_mutation_sampling, \n",
    "                                             max_values=max_values, \n",
    "                                             min_values=min_values, \n",
    "                                             forward_reverse_list=forward_reverse_list)\n",
    "\n",
    "weights"
   ]
  },
  {
   "cell_type": "markdown",
   "metadata": {},
   "source": [
    "### 模糊评价"
   ]
  },
  {
   "cell_type": "code",
   "execution_count": 7,
   "metadata": {},
   "outputs": [],
   "source": [
    "def triangular_membership(rank, x, a, b, c):\n",
    "    \"\"\"\n",
    "    计算三角形隶属度函数的隶属度值\n",
    "    :param x: 输入值\n",
    "    :param a: 左端点\n",
    "    :param b: 顶点\n",
    "    :param c: 右端点\n",
    "    :return: 隶属度值\n",
    "    \"\"\"\n",
    "    if rank == 1:\n",
    "        if x <= a:\n",
    "            return 1.0\n",
    "        elif a < x <= b:\n",
    "            return (b - x) / (b - a)\n",
    "        elif x > b:\n",
    "            return 0.0\n",
    "    if rank == 2:\n",
    "        if  a <= x <= b:\n",
    "            return (x - a) / (b - a)\n",
    "        elif b < x <= c:\n",
    "            return (c - x) / (c - b)\n",
    "        elif x < a or x > c:\n",
    "            return 0.0\n",
    "    if rank == 3:\n",
    "        if x <= b:\n",
    "            return 0.0\n",
    "        elif b < x <= c:\n",
    "            return (x - b) / (c - b)\n",
    "        elif x > c:\n",
    "            return 1.0\n",
    "\n",
    "def calculate_membership(accuracy, a, b, c, reverse=False):\n",
    "    \"\"\"\n",
    "    根据准确率计算其在“差”、“中”、“好”三个等级中的隶属度\n",
    "    :rank: 评价等级序号\n",
    "    :param accuracy: 输入的准确率值 (0-100)\n",
    "    :return: 三个等级的隶属度\n",
    "    \"\"\"\n",
    "    poor = triangular_membership(rank=1, x=accuracy, \n",
    "                                 a=a, b=b, c=c)\n",
    "    medium = triangular_membership(rank=2, x=accuracy, \n",
    "                                 a=a, b=b, c=c)\n",
    "    good = triangular_membership(rank=3, x=accuracy, \n",
    "                                 a=a, b=b, c=c)\n",
    "    if reverse == False:\n",
    "        return [poor, medium, good]\n",
    "    else:\n",
    "        return [good, medium, poor]"
   ]
  },
  {
   "cell_type": "code",
   "execution_count": null,
   "metadata": {},
   "outputs": [
    {
     "name": "stdout",
     "output_type": "stream",
     "text": [
      "Weights:[0.5, 0.5]\n",
      "Point:[0.00040277, 0.8125]:\n",
      "      [0.0, 0.0, 1.0]\n",
      "      [0.0, 0.0, 1.0]\n",
      "Final:1.0\n",
      "\n",
      "Point:[0.000443054, 0.80469]:\n",
      "      [0.0, 0.0, 1.0]\n",
      "      [0.0, 0.0, 1.0]\n",
      "Final:1.0\n",
      "\n",
      "Point:[0.000597865, 0.79688]:\n",
      "      [0.0, 0.0, 1.0]\n",
      "      [0.0, 0.06240000000000018, 0.9375999999999998]\n",
      "Final:0.9896010399999999\n",
      "\n",
      "Point:[0.0018, 0.75781]:\n",
      "      [0.0, 0.0, 1.0]\n",
      "      [0.0, 0.8438000000000004, 0.15619999999999953]\n",
      "Final:0.8593807299999998\n",
      "\n",
      "Point:[0.1617, 0.74219]:\n",
      "      [0.0, 0.0, 1.0]\n",
      "      [0.15619999999999953, 0.8438000000000004, 0.0]\n",
      "Final:0.8073114600000001\n",
      "\n"
     ]
    }
   ],
   "source": [
    "# Dis Latency:   a=1000, b=2000, c=3000\n",
    "# Dis Accuracy:  a=0.70,   b=0.75,   c=0.80\n",
    "\n",
    "# Gen Diversity: a=800, b=1600, c=2400\n",
    "# Gen Accuracy:  a=0.20,   b=0.30,   c=0.40\n",
    "\n",
    "weights = [0.5, 0.5]\n",
    "print(f'Weights:{weights}')\n",
    "for obj1, obj2 in double_mutation_sampling:\n",
    "    # For Discriminator\n",
    "    membership_obj1 = calculate_membership(obj1, a=1000, b=2000, c=3000, reverse=True)\n",
    "    membership_obj2 = calculate_membership(obj2, a=0.70, b=0.75, c=0.80, reverse=False)\n",
    "\n",
    "    # # For Generator\n",
    "    # membership_obj1 = calculate_membership(obj1, a=0.001, b=0.01, c=0.1, reverse=False)\n",
    "    # membership_obj2 = calculate_membership(obj2, a=0.1, b=0.20, c=0.40, reverse=False)\n",
    "\n",
    "    membership_matrix = np.array([membership_obj1, membership_obj2])\n",
    "    weights = np.array(weights).reshape(1, -1)\n",
    "\n",
    "    assessment_matrix = np.dot(weights, membership_matrix).flatten()\n",
    "    assessment_value = np.sum([0.3333, 0.6667, 1] * assessment_matrix)\n",
    "\n",
    "    print(f'Point:[{obj1}, {obj2}]:\\n      {membership_obj1}\\n      {membership_obj2}\\nFinal:{assessment_value}\\n')"
   ]
  }
 ],
 "metadata": {
  "kernelspec": {
   "display_name": "PyTorch",
   "language": "python",
   "name": "python3"
  },
  "language_info": {
   "codemirror_mode": {
    "name": "ipython",
    "version": 3
   },
   "file_extension": ".py",
   "mimetype": "text/x-python",
   "name": "python",
   "nbconvert_exporter": "python",
   "pygments_lexer": "ipython3",
   "version": "3.8.16"
  }
 },
 "nbformat": 4,
 "nbformat_minor": 2
}
